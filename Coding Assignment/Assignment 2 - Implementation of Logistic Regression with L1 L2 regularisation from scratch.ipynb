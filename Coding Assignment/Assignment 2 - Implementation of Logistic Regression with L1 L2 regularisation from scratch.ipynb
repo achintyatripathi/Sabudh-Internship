{
 "cells": [
  {
   "cell_type": "code",
   "execution_count": 94,
   "metadata": {},
   "outputs": [],
   "source": [
    "# For data creation and other tasks\n",
    "import numpy as np\n",
    "import random\n",
    "import scipy\n",
    "from scipy.stats import norm\n",
    "import pandas as pd\n",
    "\n",
    "## Mertics to evaluate the models \n",
    "from sklearn.metrics import r2_score  # For Linear Regression \n",
    "from sklearn.metrics import accuracy_score # for Logistic Regression\n",
    "\n",
    "# For plotting the graphs.. \n",
    "import matplotlib.pyplot as plt\n",
    "%matplotlib inline\n",
    "import seaborn as sns \n",
    "\n",
    "# For spliting the data into 80:20 ratio \n",
    "from sklearn.model_selection import train_test_split\n",
    "\n",
    "## Just for creating the white color labels...\n",
    "params = {\"xtick.color\" : \"white\",\n",
    "          \"ytick.color\" : \"white\"}\n",
    "plt.rcParams.update(params)"
   ]
  },
  {
   "cell_type": "markdown",
   "metadata": {},
   "source": [
    "## 1. Data Generation "
   ]
  },
  {
   "cell_type": "code",
   "execution_count": 25,
   "metadata": {},
   "outputs": [],
   "source": [
    "def generate_data(n,m,theta):\n",
    "    X = []\n",
    "    # m = 3  #change to user defined \n",
    "    # n = 100   #change to user defined \n",
    "    theta = int(n*(theta))  #change to user defined \n",
    "    for i in range(0,n):\n",
    "        X_i = scipy.stats.norm.rvs(0,1,m)\n",
    "        X.append(X_i)\n",
    "    \n",
    "    beta = scipy.stats.norm.rvs(0,1,m)\n",
    "    # for simplicity I am not adding '1' to either beta or X rather directly adding it to the 'odds' that will\n",
    "    ## be used as y1 which will be passed through cost fn with theta which will define whether it will be \n",
    "    ### '1' or '0' (bernolli distribution)\n",
    "    odds =  (np.exp(1+ np.matmul(X,beta)) / ( 1 + np.exp(1+ np.matmul(X,beta)) )) \n",
    "    y1 = []\n",
    "    for i in odds:\n",
    "        if(i >= 0.5):\n",
    "            y1.append(1)\n",
    "        else:\n",
    "            y1.append(0)\n",
    "    df1 = pd.DataFrame(X)\n",
    "    df2 = pd.DataFrame(y1)\n",
    "    df1['Y'] = df2[0]\n",
    "    #df1.head()\n",
    "    #df1.tail()\n",
    "\n",
    "    ## Adding noise using theta \n",
    "    change = df1.sample(theta).index\n",
    "    \n",
    "    for i in change:\n",
    "        if(df1.loc[i,'Y'] == 0):\n",
    "            df1.loc[i,'Y'] = 1 \n",
    "        else:\n",
    "            df1.loc[i,'Y'] = 0 \n",
    "    return df1"
   ]
  },
  {
   "cell_type": "markdown",
   "metadata": {},
   "source": [
    "## 2. Main Logistic Regression Functions "
   ]
  },
  {
   "cell_type": "code",
   "execution_count": 26,
   "metadata": {},
   "outputs": [],
   "source": [
    "def weightInitialization(n_features):\n",
    "    w = np.zeros((1,n_features))\n",
    "    b = 0\n",
    "    return w,b"
   ]
  },
  {
   "cell_type": "code",
   "execution_count": 27,
   "metadata": {},
   "outputs": [],
   "source": [
    "def sigmoid_activation(result):\n",
    "    final_result = 1/(1+np.exp(-result))\n",
    "    return final_result"
   ]
  },
  {
   "cell_type": "code",
   "execution_count": 28,
   "metadata": {},
   "outputs": [],
   "source": [
    "def model_optimize(w, b, X, Y):\n",
    "    m = X.shape[0]\n",
    "    \n",
    "    #Prediction\n",
    "    final_result = sigmoid_activation(np.dot(w,X.T)+b)\n",
    "    Y_T = Y.T\n",
    "    cost = (-1/m)*(np.sum((Y_T*np.log(final_result)) + ((1-Y_T)*(np.log(1-final_result)))))\n",
    "    #\n",
    "    \n",
    "    #Gradient calculation\n",
    "    dw = (1/m)*(np.dot(X.T, (final_result-Y.T).T))\n",
    "    db = (1/m)*(np.sum(final_result-Y.T))\n",
    "    \n",
    "    grads = {\"dw\": dw, \"db\": db}\n",
    "    \n",
    "    return grads, cost"
   ]
  },
  {
   "cell_type": "code",
   "execution_count": 29,
   "metadata": {},
   "outputs": [],
   "source": [
    "def model_predict(w, b, X, Y, learning_rate, no_iterations):\n",
    "    costs = []\n",
    "    for i in range(no_iterations):\n",
    "        #\n",
    "        grads, cost = model_optimize(w,b,X,Y)\n",
    "        #\n",
    "        dw = grads[\"dw\"]\n",
    "        db = grads[\"db\"]\n",
    "        #weight update\n",
    "        w = w - (learning_rate * (dw.T))\n",
    "        b = b - (learning_rate * db)\n",
    "        #\n",
    "        \n",
    "        if (i % 100 == 0):\n",
    "            costs.append(cost)\n",
    "            #print(\"Cost after %i iteration is %f\" %(i, cost))\n",
    "    \n",
    "    #final parameters\n",
    "    coeff = {\"w\": w, \"b\": b}\n",
    "    gradient = {\"dw\": dw, \"db\": db}\n",
    "    \n",
    "    return coeff, gradient, costs"
   ]
  },
  {
   "cell_type": "code",
   "execution_count": 30,
   "metadata": {},
   "outputs": [],
   "source": [
    "def predict(final_pred, m):\n",
    "    y_pred = np.zeros((1,m))\n",
    "    for i in range(final_pred.shape[1]):\n",
    "        if final_pred[0][i] > 0.5:\n",
    "            y_pred[0][i] = 1\n",
    "    return y_pred"
   ]
  },
  {
   "cell_type": "code",
   "execution_count": 35,
   "metadata": {},
   "outputs": [],
   "source": [
    "def Log_Res(n,m,theta,learning_rate,no_iterations):\n",
    "    df1 = generate_data(n,m,theta)\n",
    "        \n",
    "    X1 = df1.iloc[:,0:m].values\n",
    "    y1 = df1.iloc[:,m].values\n",
    "        \n",
    "    X_train,X_test,Y_train,Y_test = train_test_split(X1,y1,test_size = 0.2)\n",
    "    n_features = X_train.shape[1]\n",
    "    print('Number of Features', n_features)\n",
    "    w, b = weightInitialization(n_features)\n",
    "    #Gradient Descent\n",
    "    coeff, gradient, costs = model_predict(w, b, X_train, Y_train,learning_rate=0.0001,no_iterations=45000)\n",
    "    #Final prediction\n",
    "    w = coeff[\"w\"]\n",
    "    b = coeff[\"b\"]\n",
    "    print('Optimized weights - Beta', w)\n",
    "    print('Optimized intercept',b)\n",
    "    #\n",
    "    final_train_pred = sigmoid_activation(np.dot(w,X_train.T)+b)\n",
    "    final_test_pred = sigmoid_activation(np.dot(w,X_test.T)+b)\n",
    "    #\n",
    "    m_tr =  X_train.shape[0]\n",
    "    m_ts =  X_test.shape[0]\n",
    "       #\n",
    "    y_tr_pred = predict(final_train_pred, m_tr)\n",
    "    print('Training Accuracy',accuracy_score(y_tr_pred.T, Y_train))\n",
    "    #\n",
    "    y_ts_pred = predict(final_test_pred, m_ts)\n",
    "    print('Test Accuracy',accuracy_score(y_ts_pred.T, Y_test))\n",
    "    \n",
    "    plt.plot(costs)\n",
    "    plt.ylabel('cost',color='white')\n",
    "    plt.xlabel('iterations (per hundreds)',color='white')\n",
    "    plt.title('Cost reduction over time',color='white')\n",
    "    plt.show()"
   ]
  },
  {
   "cell_type": "markdown",
   "metadata": {},
   "source": [
    "## 3.  Effects of noise in the data "
   ]
  },
  {
   "cell_type": "code",
   "execution_count": 36,
   "metadata": {},
   "outputs": [
    {
     "name": "stdout",
     "output_type": "stream",
     "text": [
      "Number of Features 3\n",
      "Optimized weights - Beta [[ 0.01686142  0.77919858 -0.74487125]]\n",
      "Optimized intercept 0.24615097338565176\n",
      "Training Accuracy 0.9375\n",
      "Test Accuracy 0.825\n"
     ]
    },
    {
     "data": {
      "image/png": "[encoded data removed]",
      "text/plain": [
       "<Figure size 432x288 with 1 Axes>"
      ]
     },
     "metadata": {
      "needs_background": "dark"
     },
     "output_type": "display_data"
    }
   ],
   "source": [
    "## when there is no noise \n",
    "Log_Res(200,3,0.01,learning_rate=0.0001,no_iterations=5000)"
   ]
  },
  {
   "cell_type": "code",
   "execution_count": 37,
   "metadata": {},
   "outputs": [
    {
     "name": "stdout",
     "output_type": "stream",
     "text": [
      "Number of Features 3\n",
      "Optimized weights - Beta [[ 0.68028697 -0.42493463 -0.39314684]]\n",
      "Optimized intercept 0.3678833056716091\n",
      "Training Accuracy 0.91875\n",
      "Test Accuracy 0.825\n"
     ]
    },
    {
     "data": {
      "image/png": "[encoded data removed]",
      "text/plain": [
       "<Figure size 432x288 with 1 Axes>"
      ]
     },
     "metadata": {
      "needs_background": "dark"
     },
     "output_type": "display_data"
    }
   ],
   "source": [
    "## when there is some noise (10% noise)\n",
    "Log_Res(200,3,0.1,learning_rate=0.0001,no_iterations=5000)"
   ]
  },
  {
   "cell_type": "code",
   "execution_count": 38,
   "metadata": {},
   "outputs": [
    {
     "name": "stdout",
     "output_type": "stream",
     "text": [
      "Number of Features 3\n",
      "Optimized weights - Beta [[-0.23776384 -0.17866025 -0.36746908]]\n",
      "Optimized intercept 0.3323990904647153\n",
      "Training Accuracy 0.7125\n",
      "Test Accuracy 0.625\n"
     ]
    },
    {
     "data": {
      "image/png": "[encoded data removed]",
      "text/plain": [
       "<Figure size 432x288 with 1 Axes>"
      ]
     },
     "metadata": {
      "needs_background": "dark"
     },
     "output_type": "display_data"
    }
   ],
   "source": [
    "## when there is a lot of noise (30% noise)\n",
    "Log_Res(200,3,0.3,learning_rate=0.0001,no_iterations=5000)"
   ]
  },
  {
   "cell_type": "markdown",
   "metadata": {},
   "source": [
    "The above results are self explanatory that as we keep on increasing the noise in the data we experience relative drop in the accuracy of prediction significantly. "
   ]
  },
  {
   "cell_type": "markdown",
   "metadata": {},
   "source": [
    "## Effects of changing value of n "
   ]
  },
  {
   "cell_type": "code",
   "execution_count": 39,
   "metadata": {},
   "outputs": [
    {
     "name": "stdout",
     "output_type": "stream",
     "text": [
      "Number of Features 3\n",
      "Optimized weights - Beta [[-0.17953651 -0.4627241   0.85127061]]\n",
      "Optimized intercept 0.5089672951683004\n",
      "Training Accuracy 0.975\n",
      "Test Accuracy 0.9\n"
     ]
    },
    {
     "data": {
      "image/png": "[encoded data removed]",
      "text/plain": [
       "<Figure size 432x288 with 1 Axes>"
      ]
     },
     "metadata": {
      "needs_background": "dark"
     },
     "output_type": "display_data"
    }
   ],
   "source": [
    "## when n is small n = 50\n",
    "Log_Res(50,3,0.01,learning_rate=0.0001,no_iterations=5000)"
   ]
  },
  {
   "cell_type": "code",
   "execution_count": 43,
   "metadata": {},
   "outputs": [
    {
     "name": "stdout",
     "output_type": "stream",
     "text": [
      "Number of Features 3\n",
      "Optimized weights - Beta [[ 0.30202526 -0.71594151  0.30822725]]\n",
      "Optimized intercept 0.7964748573262949\n",
      "Training Accuracy 0.96\n",
      "Test Accuracy 0.9\n"
     ]
    },
    {
     "data": {
      "image/png": "[encoded data removed]",
      "text/plain": [
       "<Figure size 432x288 with 1 Axes>"
      ]
     },
     "metadata": {
      "needs_background": "dark"
     },
     "output_type": "display_data"
    }
   ],
   "source": [
    "## when n is large n = 500\n",
    "Log_Res(500,3,0.001,learning_rate=0.0001,no_iterations=5000)"
   ]
  },
  {
   "cell_type": "code",
   "execution_count": 45,
   "metadata": {},
   "outputs": [
    {
     "name": "stdout",
     "output_type": "stream",
     "text": [
      "Number of Features 3\n",
      "Optimized weights - Beta [[ 0.71853169  0.20761873 -0.04132107]]\n",
      "Optimized intercept 0.9214580181648481\n",
      "Training Accuracy 0.9335875\n",
      "Test Accuracy 0.9311\n"
     ]
    },
    {
     "data": {
      "image/png": "[encoded data removed]",
      "text/plain": [
       "<Figure size 432x288 with 1 Axes>"
      ]
     },
     "metadata": {
      "needs_background": "dark"
     },
     "output_type": "display_data"
    }
   ],
   "source": [
    "## when n is very large n = 1000\n",
    "Log_Res(100000,3,0.0,learning_rate=0.0001,no_iterations=5000)"
   ]
  },
  {
   "cell_type": "markdown",
   "metadata": {},
   "source": [
    "When the size of the dataset was increased the computation incereased However there wasn't much change in the accuracy. There was a drop in it but it can be justified as the dataset was very large (1Lakh elements = n). Having a very large dataset sometimes overfit the model as the model only needs to learn those parameters that can easily help us to find the theta(probablity of classification) using which we can evaluate the input we get. "
   ]
  },
  {
   "attachments": {},
   "cell_type": "markdown",
   "metadata": {},
   "source": [
    "## 4. L1 and L2 regularization"
   ]
  },
  {
   "cell_type": "code",
   "execution_count": 54,
   "metadata": {},
   "outputs": [],
   "source": [
    "## we are only changing the cost function and reusing the rest of the functions/code ..\n",
    "\n",
    "lam = 0.1\n",
    "def model_optimize_for_L1(w, b, X, Y):\n",
    "    m = X.shape[0]\n",
    "    \n",
    "    #Prediction\n",
    "    final_result = sigmoid_activation(np.dot(w,X.T)+b)\n",
    "    Y_T = Y.T\n",
    "    cost = (-1/m)*(np.sum((Y_T*np.log(final_result)) + ((1-Y_T)*(np.log(1-final_result)))))  + (lam * (np.sum(w)))\n",
    "\n",
    "    #\n",
    "    \n",
    "    #Gradient calculation\n",
    "    dw = (1/m)*(np.dot(X.T, (final_result-Y.T).T)) + lam\n",
    "    db = (1/m)*(np.sum(final_result-Y.T))\n",
    "    \n",
    "    grads = {\"dw\": dw, \"db\": db}\n",
    "    \n",
    "    return grads, cost\n",
    "def model_predict_l1(w, b, X, Y, learning_rate, no_iterations):\n",
    "    costs = []\n",
    "    for i in range(no_iterations):\n",
    "        #\n",
    "        grads, cost = model_optimize_for_L1(w,b,X,Y)\n",
    "        #\n",
    "        dw = grads[\"dw\"]\n",
    "        db = grads[\"db\"]\n",
    "        #weight update\n",
    "        w = w - (learning_rate * (dw.T))\n",
    "        b = b - (learning_rate * db)\n",
    "        #\n",
    "        \n",
    "        if (i % 100 == 0):\n",
    "            costs.append(cost)\n",
    "            #print(\"Cost after %i iteration is %f\" %(i, cost))\n",
    "    \n",
    "    #final parameters\n",
    "    coeff = {\"w\": w, \"b\": b}\n",
    "    gradient = {\"dw\": dw, \"db\": db}\n",
    "    \n",
    "    return coeff, gradient, costs"
   ]
  },
  {
   "cell_type": "code",
   "execution_count": 63,
   "metadata": {},
   "outputs": [],
   "source": [
    "lam = 0.1\n",
    "def model_optimize_for_L2(w, b, X, Y):\n",
    "    m = X.shape[0]\n",
    "    \n",
    "    #Prediction\n",
    "    final_result = sigmoid_activation(np.dot(w,X.T)+b)\n",
    "    Y_T = Y.T\n",
    "    cost = (-1/m)*(np.sum((Y_T*np.log(final_result)) + ((1-Y_T)*(np.log(1-final_result)))))  + (lam * (np.sum(np.square(w))))\n",
    "\n",
    "    #\n",
    "    \n",
    "    #Gradient calculation\n",
    "    dw = (1/m)*(np.dot(X.T, (final_result-Y.T).T)) + lam * w\n",
    "    db = (1/m)*(np.sum(final_result-Y.T))\n",
    "    \n",
    "    grads = {\"dw\": dw, \"db\": db}\n",
    "    \n",
    "    return grads, cost\n",
    "def model_predict_l2(w, b, X, Y, learning_rate, no_iterations):\n",
    "    costs = []\n",
    "    for i in range(no_iterations):\n",
    "        #\n",
    "        grads, cost = model_optimize_for_L2(w,b,X,Y)\n",
    "        #\n",
    "        dw = grads[\"dw\"]\n",
    "        db = grads[\"db\"]\n",
    "        #weight update\n",
    "        w = w - (learning_rate * (dw.T))\n",
    "        b = b - (learning_rate * db)\n",
    "        #\n",
    "        \n",
    "        if (i % 100 == 0):\n",
    "            costs.append(cost)\n",
    "            #print(\"Cost after %i iteration is %f\" %(i, cost))\n",
    "    \n",
    "    #final parameters\n",
    "    coeff = {\"w\": w, \"b\": b}\n",
    "    gradient = {\"dw\": dw, \"db\": db}\n",
    "    \n",
    "    return coeff, gradient, costs"
   ]
  },
  {
   "cell_type": "code",
   "execution_count": 79,
   "metadata": {},
   "outputs": [],
   "source": [
    "def Log_reg_L1_L2(n,m,theta,learning_rate,no_iterations):\n",
    "    df1 = generate_data(n,m,theta)\n",
    "        \n",
    "    X1 = df1.iloc[:,0:m].values\n",
    "    y1 = df1.iloc[:,m].values\n",
    "        \n",
    "    X_train,X_test,Y_train,Y_test = train_test_split(X1,y1,test_size = 0.2)\n",
    "    n_features = X_train.shape[1]\n",
    "    print('Number of Features', n_features)\n",
    "    w, b = weightInitialization(n_features)\n",
    "    #Gradient Descent for L1 reguralisation\n",
    "    coeff1, gradient1, costs1 = model_predict_l1(w, b, X_train, Y_train,learning_rate=0.0001,no_iterations=45000)\n",
    "     \n",
    "    #Final prediction\n",
    "    w1 = coeff1[\"w\"]\n",
    "    b1 = coeff1[\"b\"]\n",
    "    print('Optimized weights - Beta', w1)\n",
    "    print('Optimized intercept',b1)\n",
    "    #\n",
    "    final_train_pred = sigmoid_activation(np.dot(w1,X_train.T)+b1)\n",
    "    final_test_pred = sigmoid_activation(np.dot(w1,X_test.T)+b1)\n",
    "    #\n",
    "    m_tr =  X_train.shape[0]\n",
    "    m_ts =  X_test.shape[0]\n",
    "       #\n",
    "    y_tr_pred = predict(final_train_pred, m_tr)\n",
    "    print('Training Accuracy',accuracy_score(y_tr_pred.T, Y_train))\n",
    "    #\n",
    "    y_ts_pred = predict(final_test_pred, m_ts)\n",
    "    print('Test Accuracy',accuracy_score(y_ts_pred.T, Y_test))\n",
    "    \n",
    "    plt.plot(costs1)\n",
    "    plt.ylabel('cost',color='white')\n",
    "    plt.xlabel('iterations (per hundreds)',color='white')\n",
    "    plt.title('Cost reduction over time',color='white')\n",
    "    plt.show()\n",
    "    \n",
    "    \n",
    "    #Gradient Descent for L2 reguralisation\n",
    "    coeff2, gradient2, costs2 = model_predict_l2(w, b, X_train, Y_train,learning_rate=0.0001,no_iterations=45000)\n",
    "    #Final prediction\n",
    "    w2 = coeff2[\"w\"]\n",
    "    b2 = coeff2[\"b\"]\n",
    "    print('Optimized weights - Beta', w2)\n",
    "    print('Optimized intercept',b2)\n",
    "    #\n",
    "    final_train_pred = sigmoid_activation(np.dot(w2,X_train.T)+b2)\n",
    "    final_test_pred = sigmoid_activation(np.dot(w2,X_test.T)+b2)\n",
    "    #\n",
    "    m_tr =  X_train.shape[0]\n",
    "    m_ts =  X_test.shape[0]\n",
    "       #\n",
    "    y_tr_pred = predict(final_train_pred, m_tr)\n",
    "    print('Training Accuracy',accuracy_score(y_tr_pred.T, Y_train))\n",
    "    #\n",
    "    y_ts_pred = predict(final_test_pred, m_ts)\n",
    "    print('Test Accuracy',accuracy_score(y_ts_pred.T, Y_test))\n",
    "    \n",
    "    plt.plot(costs2)\n",
    "    plt.ylabel('cost2',color='white')\n",
    "    plt.xlabel('iterations (per hundreds)',color='white')\n",
    "    plt.title('Cost reduction over time',color='white')\n",
    "    plt.show()\n",
    "  "
   ]
  },
  {
   "cell_type": "code",
   "execution_count": 80,
   "metadata": {},
   "outputs": [
    {
     "name": "stdout",
     "output_type": "stream",
     "text": [
      "Number of Features 3\n",
      "Optimized weights - Beta [[-0.66888481  0.54130008  0.29003025]]\n",
      "Optimized intercept 0.46622883165226653\n",
      "Training Accuracy 0.88125\n",
      "Test Accuracy 0.825\n"
     ]
    },
    {
     "data": {
      "image/png": "[encoded data removed]",
      "text/plain": [
       "<Figure size 432x288 with 1 Axes>"
      ]
     },
     "metadata": {
      "needs_background": "dark"
     },
     "output_type": "display_data"
    },
    {
     "name": "stdout",
     "output_type": "stream",
     "text": [
      "Optimized weights - Beta [[-0.30631023  0.93075486  0.7174297 ]\n",
      " [-0.54622105  0.70223737  0.4614887 ]\n",
      " [-0.50589979  0.74298594  0.50634515]]\n",
      "Optimized intercept 0.7630485121064717\n",
      "Training Accuracy 0.9875\n",
      "Test Accuracy 0.95\n"
     ]
    },
    {
     "data": {
      "image/png": "[encoded data removed]",
      "text/plain": [
       "<Figure size 432x288 with 1 Axes>"
      ]
     },
     "metadata": {
      "needs_background": "dark"
     },
     "output_type": "display_data"
    }
   ],
   "source": [
    "## when using L1 reg and L2 reg\n",
    "Log_reg_L1_L2(200,3,0.01,learning_rate=0.0001,no_iterations=5000)"
   ]
  },
  {
   "cell_type": "markdown",
   "metadata": {},
   "source": [
    "Though both L1 reg. and L2 reg. should have the same effects yet the training and test accuracies have been different. \n",
    "The affect on beta/weights have been that they have been shrinked a little. \n",
    "The effects were not that visible as the data is between [0,1] and thus weights/beta are also between the range [0,1] and near 0.0."
   ]
  },
  {
   "cell_type": "markdown",
   "metadata": {},
   "source": [
    "## 5. Adding Linear Regression and re-using already written code."
   ]
  },
  {
   "cell_type": "code",
   "execution_count": 86,
   "metadata": {},
   "outputs": [],
   "source": [
    "def model_optimize_LR(w,b,X,Y):\n",
    "    #\n",
    "    m = X.shape[0]\n",
    "    #\n",
    "    final_result = np.dot(w, X.T) + b\n",
    "    cost = (1/m)*np.sum((Y.T - final_result) ** 2)\n",
    "    #\n",
    "    dw = (-2/m)*np.sum((np.dot(X.T,(Y.T - final_result).T)))\n",
    "    db = (-2/m)*np.sum(((Y.T - final_result)))\n",
    "    #\n",
    "    grads = {\"dw\": dw, \"db\": db}\n",
    "    \n",
    "    return grads, cost\n",
    "\n",
    "\n",
    "def gradientUpdate(w,b,X, Y, learning_rate, no_iterations):\n",
    "    costs = []\n",
    "    for i in range(no_iterations):\n",
    "        #\n",
    "        grads, cost = model_optimize_LR(w,b, X,Y)\n",
    "        #\n",
    "        dw = grads[\"dw\"]\n",
    "        db = grads[\"db\"]\n",
    "        #Weight Update\n",
    "        w = w - (learning_rate*dw)\n",
    "        b = b - (learning_rate*db)\n",
    "        #\n",
    "        \n",
    "        costs.append(cost)\n",
    "    #\n",
    "    \n",
    "    coeff = {\"w\": w, \"b\": b}\n",
    "    gradient = {\"dw\": dw, \"db\": db}\n",
    "    \n",
    "    return coeff, gradient, costs\n",
    "\n",
    "\n",
    "def predict(x,w,b):\n",
    "    final_pred = np.dot(w, x.T) + b\n",
    "    return final_pred"
   ]
  },
  {
   "cell_type": "code",
   "execution_count": 97,
   "metadata": {},
   "outputs": [],
   "source": [
    "def Linear_reg(n,m,theta,learning_rate,no_iterations):\n",
    "    \n",
    "    df1 = generate_data(n,m,theta)\n",
    "        \n",
    "    X1 = df1.iloc[:,0:m].values\n",
    "    y1 = df1.iloc[:,m].values\n",
    "        \n",
    "    X_train,X_test,Y_train,Y_test = train_test_split(X1,y1,test_size = 0.2)\n",
    "    n_features = X_train.shape[1]\n",
    "\n",
    "    m_tr = X_train.shape[0]\n",
    "    m_ts = X_test.shape[0]\n",
    "    print('Number of Features', n_features)\n",
    "    w, b = weightInitialization(n_features)\n",
    "    #Gradient Descent\n",
    "    coeff, gradient, costs = gradientUpdate(w, b, X_train, Y_train, learning_rate=0.0001,no_iterations=20)\n",
    "    #Final prediction\n",
    "    w = coeff[\"w\"]\n",
    "    b = coeff[\"b\"]\n",
    "    print('Optimized weights', w)\n",
    "    print('Optimized intercept',b)\n",
    "    #\n",
    "    final_tr_pred = predict(X_train, w,b)\n",
    "    final_tr_cost = (1/m_tr)*np.sum((Y_train.T - final_tr_pred) ** 2)\n",
    "    print('Training error',final_tr_cost)\n",
    "    #\n",
    "    final_ts_pred = predict(X_test, w,b)\n",
    "    final_ts_cost = (1/m_ts)*np.sum((Y_test.T - final_ts_pred) ** 2)\n",
    "    print('Test error',final_ts_cost)\n",
    "    #\n",
    "    print('Model R^2 Square value', r2_score(Y_test, final_ts_pred.T))\n",
    "    \n",
    "    plt.plot(costs)\n",
    "    plt.ylabel('cost',color='white')\n",
    "    plt.xlabel('iterations (per hundreds)',color='white')\n",
    "    plt.title('Cost reduction over time',color='white')\n",
    "    plt.show()\n",
    "    "
   ]
  },
  {
   "cell_type": "code",
   "execution_count": 98,
   "metadata": {},
   "outputs": [
    {
     "name": "stdout",
     "output_type": "stream",
     "text": [
      "Number of Features 3\n",
      "Optimized weights [[0.00040757 0.00040757 0.00040757]]\n",
      "Optimized intercept 0.0029943771896296777\n",
      "Training error 0.7454342509937982\n",
      "Test error 0.7704427938964156\n",
      "Model R^2 Square value -3.418309929155071\n"
     ]
    },
    {
     "data": {
      "image/png": "[encoded data removed]",
      "text/plain": [
       "<Figure size 432x288 with 1 Axes>"
      ]
     },
     "metadata": {
      "needs_background": "dark"
     },
     "output_type": "display_data"
    }
   ],
   "source": [
    "n,m,theta,learning_rate,no_iterations = 200,3,0.01,0.0001,5000\n",
    "Linear_reg(n,m,theta,learning_rate,no_iterations)"
   ]
  },
  {
   "cell_type": "markdown",
   "metadata": {},
   "source": [
    "Here I tried to use most of the previous code. However the cost fn and gradient fun. evaluation fn had to recreated.  "
   ]
  },
  {
   "cell_type": "markdown",
   "metadata": {},
   "source": [
    "Conclusion \n",
    "\n",
    "For binary classification Logistic Regression works great.\n",
    "Even when the dataset increases it still does a good job in classification.\n",
    "L1 L2 regularisation can be done if the dataset is large to decrease the complexity of the model. \n",
    "If noise is large then the model's accuracy does decreases.\n",
    "\n",
    "I hope all Parts of the assignment have be answered.."
   ]
  }
 ],
 "metadata": {
  "kernelspec": {
   "display_name": "Python 3",
   "language": "python",
   "name": "python3"
  },
  "language_info": {
   "codemirror_mode": {
    "name": "ipython",
    "version": 3
   },
   "file_extension": ".py",
   "mimetype": "text/x-python",
   "name": "python",
   "nbconvert_exporter": "python",
   "pygments_lexer": "ipython3",
   "version": "3.7.6"
  }
 },
 "nbformat": 4,
 "nbformat_minor": 4
}
